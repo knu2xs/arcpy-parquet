{
 "cells": [
  {
   "cell_type": "code",
   "execution_count": 1,
   "id": "0810c910-2e5d-47c9-b6d4-018c98ade7cc",
   "metadata": {},
   "outputs": [],
   "source": [
    "from pathlib import Path\n",
    "\n",
    "from pyarrow import parquet as pq\n",
    "\n",
    "from arcpy_parquet.utils.pyarrow_utils import *"
   ]
  },
  {
   "cell_type": "code",
   "execution_count": 24,
   "id": "bbde570f-b36e-4f34-aade-64c60a851111",
   "metadata": {},
   "outputs": [],
   "source": [
    "pqt_pth = Path(r\"D:\\projects\\arcpy-parquet\\data\\sample\\main_fgdb_sample\\parquet\")"
   ]
  },
  {
   "cell_type": "code",
   "execution_count": null,
   "id": "a205a60b-381e-4d3a-b34f-17f1e89fe815",
   "metadata": {},
   "outputs": [],
   "source": [
    "import pyarrow.dataset as ds\n",
    "\n",
    "# Load the dataset with partitioning specified\n",
    "dataset = ds.dataset(pqt_pth, format=\"parquet\", partitioning=\"hive\")\n",
    "\n",
    "# Get the fragments (individual files)\n",
    "fragments = dataset.get_fragments()"
   ]
  },
  {
   "cell_type": "code",
   "execution_count": 56,
   "id": "7f0c8293-85eb-499f-b2e1-9f1f68ea92db",
   "metadata": {},
   "outputs": [],
   "source": [
    "dataset = pq.ParquetDataset(pqt_pth)\n",
    "fragments = dataset.fragments"
   ]
  },
  {
   "cell_type": "code",
   "execution_count": 57,
   "id": "d701c4c7-1fef-4721-9d19-aa1bc8f95160",
   "metadata": {},
   "outputs": [
    {
     "data": {
      "text/plain": [
       "[{'delivery_year': 2025, 'delivery_month': 6},\n",
       " {'delivery_year': 2024, 'delivery_month': 8},\n",
       " {'delivery_year': 2025, 'delivery_month': 8}]"
      ]
     },
     "execution_count": 57,
     "metadata": {},
     "output_type": "execute_result"
    }
   ],
   "source": [
    "# Extract partition expressions and convert to dictionaries\n",
    "partition_set = set()\n",
    "\n",
    "# add all the partition expressions as strings to a set to get unique values\n",
    "for fragment in fragments:\n",
    "    expr = fragment.partition_expression\n",
    "    # Convert expression to string and parse manually\n",
    "    # Example: (year == 2020) → {'year': 2020}\n",
    "    expr_str = str(expr)\n",
    "    partition_set.add(expr_str)\n",
    "\n",
    "\n",
    "partition_lst = []\n",
    "\n",
    "# parse these out into the discrete parts\n",
    "for expr_str in partition_set:\n",
    "    parts = expr_str.replace('(', '').replace(')', '').split(\" and \")\n",
    "    partition = {}\n",
    "    for part in parts:\n",
    "        key, _, value = part.partition(\" == \")\n",
    "        partition[key.replace('(', '').replace(')', '').strip()] = eval(value.replace('(', '').replace(')', '').strip())\n",
    "    partition_lst.append(partition)\n",
    "\n",
    "partition_lst"
   ]
  },
  {
   "cell_type": "code",
   "execution_count": 58,
   "id": "1a09880c-ffd4-45e1-a85c-99680c8b8048",
   "metadata": {},
   "outputs": [
    {
     "data": {
      "text/plain": [
       "[{'delivery_year': 2025},\n",
       " {'delivery_year': 2024},\n",
       " {'delivery_year': 2025, 'delivery_month': 6},\n",
       " {'delivery_year': 2024, 'delivery_month': 8},\n",
       " {'delivery_year': 2025, 'delivery_month': 8}]"
      ]
     },
     "execution_count": 58,
     "metadata": {},
     "output_type": "execute_result"
    }
   ],
   "source": [
    "def generate_combinations(dict_list):\n",
    "    # Extract all keys from the first dictionary (assuming consistent keys)\n",
    "    keys = list(dict_list[0].keys())\n",
    "    \n",
    "    # Create combinations of keys from depth 1 to full depth\n",
    "    key_combinations = []\n",
    "    for i in range(1, len(keys) + 1):\n",
    "        key_combinations.extend([keys[:i]])\n",
    "\n",
    "    # Use a set to avoid duplicate dictionaries\n",
    "    result_set = set()\n",
    "    result = []\n",
    "\n",
    "    for key_combo in key_combinations:\n",
    "        for d in dict_list:\n",
    "            new_dict = {k: d[k] for k in key_combo}\n",
    "            # Convert to tuple of items to make it hashable\n",
    "            dict_tuple = tuple(new_dict.items())\n",
    "            if dict_tuple not in result_set:\n",
    "                result_set.add(dict_tuple)\n",
    "                result.append(new_dict)\n",
    "\n",
    "    return result\n",
    "\n",
    "\n",
    "generate_combinations(partition_lst)"
   ]
  },
  {
   "cell_type": "code",
   "execution_count": null,
   "id": "907e3e2a-f435-418c-933b-7a1c05350f80",
   "metadata": {},
   "outputs": [],
   "source": []
  }
 ],
 "metadata": {
  "kernelspec": {
   "display_name": "Python 3 (ipykernel)",
   "language": "python",
   "name": "python3"
  },
  "language_info": {
   "codemirror_mode": {
    "name": "ipython",
    "version": 3
   },
   "file_extension": ".py",
   "mimetype": "text/x-python",
   "name": "python",
   "nbconvert_exporter": "python",
   "pygments_lexer": "ipython3",
   "version": "3.11.11"
  }
 },
 "nbformat": 4,
 "nbformat_minor": 5
}
