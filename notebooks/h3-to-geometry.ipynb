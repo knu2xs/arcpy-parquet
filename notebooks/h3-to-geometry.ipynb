{
 "cells": [
  {
   "cell_type": "code",
   "execution_count": 16,
   "id": "d39372ce-6a00-41e2-a3c2-b983dbb983d1",
   "metadata": {},
   "outputs": [],
   "source": [
    "import arcpy\n",
    "\n",
    "from importlib.util import find_spec"
   ]
  },
  {
   "cell_type": "code",
   "execution_count": 8,
   "id": "de8c0230-843a-4ed7-8973-53663eac1ac7",
   "metadata": {},
   "outputs": [
    {
     "data": {
      "text/plain": [
       "True"
      ]
     },
     "execution_count": 8,
     "metadata": {},
     "output_type": "execute_result"
    }
   ],
   "source": [
    "has_h3 = False if find_spec('h3') is None else True\n",
    "\n",
    "has_h3"
   ]
  },
  {
   "cell_type": "code",
   "execution_count": 9,
   "id": "2d35da8e-49c4-4e81-a692-f43394aef099",
   "metadata": {},
   "outputs": [],
   "source": [
    "if not has_h3:\n",
    "    raise EnvironmentError(\"The h3-py package does not appear to be available in the current Python environment. Creating H3 geometries from H3 indices \"\n",
    "                           \"requires the h3-py package to be installed in the current environment.\")"
   ]
  },
  {
   "cell_type": "code",
   "execution_count": 10,
   "id": "e8071070-44ed-444a-9e15-59cfb9c3ea29",
   "metadata": {},
   "outputs": [],
   "source": [
    "import h3"
   ]
  },
  {
   "cell_type": "code",
   "execution_count": 38,
   "id": "954e5eb6-5974-49bb-9fa0-be3b751a9da6",
   "metadata": {},
   "outputs": [
    {
     "data": {
      "text/html": [
       "<style>table td#td0  {font-weight: bold}</style><table class=\"notebook\"><colgroup><col style=\"width:45%\"></col><col style=\"width:55%\"></col></colgroup><tr><td id = \"td0\" title=\"name (Geographic Coordinate System)\">name (Geographic Coordinate System)</td><td title=\"GCS_WGS_1984\">GCS_WGS_1984</td></tr><tr><td id = \"td0\" title=\"factoryCode (WKID)\">factoryCode (WKID)</td><td title=\"4326\">4326</td></tr><tr><td id = \"td0\" title=\"angularUnitName (Angular Unit)\">angularUnitName (Angular Unit)</td><td title=\"Degree\">Degree</td></tr><tr><td id = \"td0\" title=\"datumName (Datum)\">datumName (Datum)</td><td title=\"D_WGS_1984\">D_WGS_1984</td></tr></table>"
      ],
      "text/plain": [
       "<SpatialReference object at 0x165be14df70[0x165bf8786b0]>"
      ]
     },
     "execution_count": 38,
     "metadata": {},
     "output_type": "execute_result"
    }
   ],
   "source": [
    "h3_index = '8001fffffffffff'\n",
    "\n",
    "geometry_type = 'point'\n",
    "\n",
    "spatial_reference"
   ]
  },
  {
   "cell_type": "code",
   "execution_count": 48,
   "id": "b2721c8f-0180-4d42-bb83-47b60859a072",
   "metadata": {},
   "outputs": [
    {
     "ename": "SyntaxError",
     "evalue": "'return' outside function (2197642034.py, line 38)",
     "output_type": "error",
     "traceback": [
      "\u001B[1;36m  File \u001B[1;32m\"C:\\Users\\joel5174\\AppData\\Local\\Temp\\2\\ipykernel_5004\\2197642034.py\"\u001B[1;36m, line \u001B[1;32m38\u001B[0m\n\u001B[1;33m    return geom\u001B[0m\n\u001B[1;37m    ^\u001B[0m\n\u001B[1;31mSyntaxError\u001B[0m\u001B[1;31m:\u001B[0m 'return' outside function\n"
     ]
    }
   ],
   "source": [
    "def h3_index_to_geometry(h3_index: str, geometry_type: Optional[str] = 'polygon'):\n",
    "\n",
    "    # all coordinates are in WGS84\n",
    "    sptl_rfrnc = arcpy.SpatialReference(4326)\n",
    "\n",
    "    # ensure geometry type is lowercase for comparisons\n",
    "    geometry_type = geometry_type.lower()\n",
    "\n",
    "    # since inner H3 errors are strange, catch at higher level\n",
    "    try:\n",
    "\n",
    "        if geometry_type == 'point':\n",
    "\n",
    "            # get the coordinates\n",
    "            y, x = h3.cell_to_latlng(h3_index)\n",
    "\n",
    "            # create a point geometry\n",
    "            geom = arcpy.PointGeometry(arcpy.Point(x, y), spatial_reference=sptl_rfrnc)\n",
    "\n",
    "        elif geometry_type == 'poly' or geometry_type == 'polygon':\n",
    "\n",
    "            # get the tuple of tuples with the bounding coordinates for the h3 index polygon boundary\n",
    "            h3_bndry = h3.cell_to_boundary(h3_index)\n",
    "\n",
    "            # since the coordinates are y, x pairs, reverse to x, y to create Points and load into an Array\n",
    "            pt_arr = arcpy.Array([arcpy.Point(x, y) for y, x in h3_bndry])\n",
    "\n",
    "            # add the first point to the end to close the polygon\n",
    "            pt_arr.append(pt_arr[0])\n",
    "\n",
    "            # use the array to create the polygon geometry\n",
    "            geom = arcpy.Polygon(pt_arr, spatial_reference=sptl_rfrnc)\n",
    "\n",
    "        else:\n",
    "            raise ValueError(f'geometry_type must be one of [\"point\", \"polygon\"]. You provided \"{geometry_type}\"')\n",
    "\n",
    "    except:\n",
    "        raise ValueError(f'Cannot create geometry for H3 index \"{h3_index}\"')\n",
    "\n",
    "    return geom"
   ]
  },
  {
   "cell_type": "code",
   "execution_count": 41,
   "id": "ff229caa-3e39-4fb2-b101-d74827119826",
   "metadata": {},
   "outputs": [],
   "source": [
    "sptl_rfrnc = arcpy.SpatialReference(4326)"
   ]
  },
  {
   "cell_type": "code",
   "execution_count": 46,
   "id": "ad10b922-1d6e-4a39-8af4-6a275930379f",
   "metadata": {},
   "outputs": [
    {
     "data": {
      "image/svg+xml": [
       "<svg xmlns=\"http://www.w3.org/2000/svg\" xmlns:xlink=\"http://www.w3.org/1999/xlink\" width=\"100.0\" height=\"100.0\" viewBox=\"37.02340700796989 78.24239850975904 2.0 2.0\" preserveAspectRatio=\"xMinYMin meet\"><g transform=\"matrix(1,0,0,-1,0,158.48479701951808)\"><circle cx=\"38.02340700796989\" cy=\"79.24239850975904\" r=\"0.06\" stroke=\"#555555\" stroke-width=\"0.02\" fill=\"#66cc99\" opacity=\"0.6\" /></g></svg>"
      ],
      "text/plain": [
       "<PointGeometry object at 0x165bf8ffeb0[0x165bf8ffc30]>"
      ]
     },
     "execution_count": 46,
     "metadata": {},
     "output_type": "execute_result"
    }
   ],
   "source": [
    "arcpy.PointGeometry(arcpy.Point(x, y), spatial_reference=sptl_rfrnc)"
   ]
  },
  {
   "cell_type": "code",
   "execution_count": null,
   "id": "d2217c00-1f53-4f04-bd65-748f34df6092",
   "metadata": {},
   "outputs": [],
   "source": []
  }
 ],
 "metadata": {
  "kernelspec": {
   "display_name": "Python 3 (ipykernel)",
   "language": "python",
   "name": "python3"
  },
  "language_info": {
   "codemirror_mode": {
    "name": "ipython",
    "version": 3
   },
   "file_extension": ".py",
   "mimetype": "text/x-python",
   "name": "python",
   "nbconvert_exporter": "python",
   "pygments_lexer": "ipython3",
   "version": "3.9.18"
  }
 },
 "nbformat": 4,
 "nbformat_minor": 5
}
