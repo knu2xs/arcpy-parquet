{
 "cells": [
  {
   "cell_type": "code",
   "execution_count": 1,
   "metadata": {},
   "outputs": [],
   "source": [
    "import importlib\n",
    "import os\n",
    "from pathlib import Path\n",
    "import sys\n",
    "\n",
    "from arcgis.features import GeoAccessor, GeoSeriesAccessor\n",
    "from arcgis.gis import GIS\n",
    "from dotenv import load_dotenv, find_dotenv\n",
    "import pandas as pd\n",
    "\n",
    "# import arcpy if available\n",
    "if importlib.util.find_spec(\"arcpy\") is not None:\n",
    "    import arcpy"
   ]
  },
  {
   "cell_type": "code",
   "execution_count": 2,
   "metadata": {},
   "outputs": [],
   "source": [
    "# paths to common data locations - NOTE: to convert any path to a raw string, simply use str(path_instance)\n",
    "dir_prj = Path.cwd().parent\n",
    "\n",
    "dir_data = dir_prj/'data'\n",
    "\n",
    "dir_raw = dir_data/'raw'\n",
    "dir_ext = dir_data/'external'\n",
    "dir_int = dir_data/'interim'\n",
    "dir_out = dir_data/'processed'\n",
    "\n",
    "gdb_raw = dir_raw/'raw.gdb'\n",
    "gdb_int = dir_int/'interim.gdb'\n",
    "gdb_out = dir_out/'processed.gdb'\n",
    "\n",
    "# import the project package from the project package path - only necessary if you are not using a unique environemnt for this project\n",
    "sys.path.append(str(dir_prj/'src'))\n",
    "import arcpy_parquet\n",
    "\n",
    "# load the \"autoreload\" extension so that code can change, & always reload modules so that as you change code in src, it gets loaded\n",
    "%load_ext autoreload\n",
    "%autoreload 2"
   ]
  },
  {
   "cell_type": "code",
   "execution_count": 3,
   "metadata": {},
   "outputs": [
    {
     "data": {
      "text/plain": [
       "WindowsPath('D:/projects/arcpy-parquet/data/interim/interim.gdb/test_fc')"
      ]
     },
     "execution_count": 3,
     "metadata": {},
     "output_type": "execute_result"
    }
   ],
   "source": [
    "fc_pth = gdb_int / 'test_fc'\n",
    "\n",
    "fc_pth"
   ]
  },
  {
   "cell_type": "code",
   "execution_count": 60,
   "metadata": {},
   "outputs": [
    {
     "data": {
      "text/plain": [
       "WindowsPath('D:/projects/arcpy-parquet/data/interim/interim.gdb/adu_delta_h3_05')"
      ]
     },
     "execution_count": 60,
     "metadata": {},
     "output_type": "execute_result"
    }
   ],
   "source": [
    "fc_dict = {\n",
    "    'out_path': str(gdb_int), \n",
    "    'out_name': 'adu_delta_h3_05', \n",
    "    # 'geometry_type': 'POLYGON', \n",
    "    # 'spatial_reference': arcpy.SpatialReference(4326), \n",
    "    # 'has_m': 'DISABLED', \n",
    "    # 'has_z': 'DISABLED'\n",
    "}\n",
    "fc_dict['out_path'] = gdb_int\n",
    "\n",
    "fc_pth = Path(fc_dict['out_path']) / fc_dict['out_name']\n",
    "\n",
    "fc_pth"
   ]
  },
  {
   "cell_type": "code",
   "execution_count": 61,
   "metadata": {},
   "outputs": [],
   "source": [
    "if arcpy.Exists(str(fc_pth)):\n",
    "    arcpy.management.Delete(str(fc_pth))"
   ]
  },
  {
   "cell_type": "code",
   "execution_count": 63,
   "metadata": {},
   "outputs": [
    {
     "data": {
      "text/plain": [
       "True"
      ]
     },
     "execution_count": 63,
     "metadata": {},
     "output_type": "execute_result"
    }
   ],
   "source": [
    "arcpy.management.CreateFeatureclass(str(fc_pth.parent), fc_pth.name)\n",
    "\n",
    "arcpy.Exists(str(fc_pth))"
   ]
  },
  {
   "cell_type": "code",
   "execution_count": null,
   "metadata": {},
   "outputs": [],
   "source": []
  }
 ],
 "metadata": {
  "kernelspec": {
   "display_name": "Python 3 (ipykernel)",
   "language": "python",
   "name": "python3"
  },
  "language_info": {
   "codemirror_mode": {
    "name": "ipython",
    "version": 3
   },
   "file_extension": ".py",
   "mimetype": "text/x-python",
   "name": "python",
   "nbconvert_exporter": "python",
   "pygments_lexer": "ipython3",
   "version": "3.9.16"
  }
 },
 "nbformat": 4,
 "nbformat_minor": 4
}
