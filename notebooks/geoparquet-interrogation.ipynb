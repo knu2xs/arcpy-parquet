{
 "cells": [
  {
   "cell_type": "code",
   "execution_count": 45,
   "id": "7247d2cd-05b0-4c02-9eac-8b6d6c16338d",
   "metadata": {},
   "outputs": [],
   "source": [
    "from pathlib import Path\n",
    "import json\n",
    "\n",
    "import pyarrow.parquet as pq\n",
    "import pyarrow.dataset as ds"
   ]
  },
  {
   "cell_type": "code",
   "execution_count": 18,
   "id": "2c05fb0b-5ce0-466c-975e-c42ea13c7643",
   "metadata": {},
   "outputs": [
    {
     "data": {
      "text/plain": [
       "WindowsPath('D:/projects/arcpy-parquet/data/raw/foursquare/geoparquet/parquet')"
      ]
     },
     "execution_count": 18,
     "metadata": {},
     "output_type": "execute_result"
    }
   ],
   "source": [
    "dir_prj = Path.cwd().parent\n",
    "dir_data = dir_prj / 'data'\n",
    "\n",
    "gpqt_pth = dir_prj / \"data/raw/foursquare/geoparquet/parquet\"\n",
    "\n",
    "gpqt_pth"
   ]
  },
  {
   "cell_type": "code",
   "execution_count": 46,
   "id": "f2367d1e-5186-42b1-822d-9ea2465650dd",
   "metadata": {},
   "outputs": [
    {
     "data": {
      "text/plain": [
       "<pyarrow._dataset.FileSystemDataset at 0x2808c14a500>"
      ]
     },
     "execution_count": 46,
     "metadata": {},
     "output_type": "execute_result"
    }
   ],
   "source": [
    "dataset = dataset = ds.dataset(gpqt_pth, format='parquet')\n",
    "\n",
    "dataset"
   ]
  },
  {
   "cell_type": "code",
   "execution_count": null,
   "id": "2c811ce4-483e-4ae1-a2d7-6d903c7e0b90",
   "metadata": {},
   "outputs": [],
   "source": [
    "class GeoParquetMetadata(object):\n",
    "\n",
    "    def __init__(self, parquet_dataset: Path) -> None:\n",
    "\n",
    "        if isinstance(parquet_dataset, str):\n",
    "            parquet_dataset = Path(parquet_dataset)\n",
    "\n",
    "        "
   ]
  },
  {
   "cell_type": "code",
   "execution_count": 116,
   "id": "cab433a0-b5ab-48ef-b4ac-44495376d19d",
   "metadata": {},
   "outputs": [
    {
     "data": {
      "text/plain": [
       "{'geometry': {'encoding': 'WKB',\n",
       "  'geometry_types': ['Point'],\n",
       "  'crs': {'type': 'GeographicCRS',\n",
       "   'name': 'GCS WGS 1984',\n",
       "   'bbox': {'east_longitude': 180.0,\n",
       "    'west_longitude': -180.0,\n",
       "    'south_latitude': -90.0,\n",
       "    'north_latitude': 90.0},\n",
       "   'datum': {'type': 'GeodeticReferenceFrame',\n",
       "    'name': 'D WGS 1984',\n",
       "    'ellipsoid': {'name': 'WGS 1984',\n",
       "     'semi_major_axis': 6378137.0,\n",
       "     'inverse_flattening': 298.257223563},\n",
       "    'prime_meridian': {'name': 'Greenwich', 'longitude': 0.0},\n",
       "    'id': {'authority': 'EPSG', 'code': 6326}},\n",
       "   'coordinate_system': {'subtype': 'ellipsoidal',\n",
       "    'axis': [{'name': 'Latitude',\n",
       "      'abbreviation': 'lat',\n",
       "      'direction': 'north',\n",
       "      'unit': 'degree'},\n",
       "     {'name': 'Longitude',\n",
       "      'abbreviation': 'lon',\n",
       "      'direction': 'east',\n",
       "      'unit': 'degree'}]},\n",
       "   'area': 'World (by country)',\n",
       "   'id': {'authority': 'EPSG', 'code': 4326}}}}"
      ]
     },
     "execution_count": 116,
     "metadata": {},
     "output_type": "execute_result"
    }
   ],
   "source": [
    "# get the explicitly added metadata for all the files\n",
    "meta_lst = [pq.read_metadata(fl).metadata for fl in dataset.files]\n",
    "\n",
    "# get the geography information - the metadata making the parquet dataset GEOparquet\n",
    "geo_binary_lst = [meta.get(b'geo') for meta in meta_lst]\n",
    "\n",
    "# convert the binary string into a list of dictionaries\n",
    "geo_lst = [json.loads(geo) for geo in geo_binary_lst]\n",
    "\n",
    "# get the geography definitions without the bounding boxes, and convert back to strings so they can be compared in a set\n",
    "geo_set = set(json.dumps({nm: {k: v for k, v in col_dict.items() if k != 'bbox'} for nm, col_dict in geo.get('columns').items()}) for geo in geo_lst)\n",
    "\n",
    "# ensure only one geography is present\n",
    "if len(geo_set) > 1:\n",
    "    raise ValueError(\"More than one spatial reference detected. Cannot convert data.\")\n",
    "\n",
    "# convert the geography definition back to a dictionary\n",
    "uniq_geo = [json.loads(geo) for geo in geo_set][0]\n",
    "\n",
    "# get the bounding box for all the files, the entire parquet dataset\n",
    "coords_lst = list(zip(*[geo.get('columns').get('geometry').get('bbox') for geo in geo_lst]))\n",
    "\n",
    "min_coords = [min(coords) for coords in coords_lst[:2]]\n",
    "max_coords = [max(coords) for coords in coords_lst[2:]]\n",
    "\n",
    "bbox = min_coords + max_coords\n",
    "\n",
    "# add the bounding box back onto the geometry definition\n",
    "uniq_geo"
   ]
  },
  {
   "cell_type": "code",
   "execution_count": 121,
   "id": "fcadbd09-558c-41e6-82be-59c3fb66f498",
   "metadata": {},
   "outputs": [
    {
     "data": {
      "text/plain": [
       "{'version': '1.0.0',\n",
       " 'primary_column': 'geometry',\n",
       " 'columns': {'geometry': {'encoding': 'WKB',\n",
       "   'geometry_types': ['Point'],\n",
       "   'crs': {'type': 'GeographicCRS',\n",
       "    'name': 'GCS WGS 1984',\n",
       "    'bbox': {'east_longitude': 180.0,\n",
       "     'west_longitude': -180.0,\n",
       "     'south_latitude': -90.0,\n",
       "     'north_latitude': 90.0},\n",
       "    'datum': {'type': 'GeodeticReferenceFrame',\n",
       "     'name': 'D WGS 1984',\n",
       "     'ellipsoid': {'name': 'WGS 1984',\n",
       "      'semi_major_axis': 6378137.0,\n",
       "      'inverse_flattening': 298.257223563},\n",
       "     'prime_meridian': {'name': 'Greenwich', 'longitude': 0.0},\n",
       "     'id': {'authority': 'EPSG', 'code': 6326}},\n",
       "    'coordinate_system': {'subtype': 'ellipsoidal',\n",
       "     'axis': [{'name': 'Latitude',\n",
       "       'abbreviation': 'lat',\n",
       "       'direction': 'north',\n",
       "       'unit': 'degree'},\n",
       "      {'name': 'Longitude',\n",
       "       'abbreviation': 'lon',\n",
       "       'direction': 'east',\n",
       "       'unit': 'degree'}]},\n",
       "    'area': 'World (by country)',\n",
       "    'id': {'authority': 'EPSG', 'code': 4326}},\n",
       "   'bbox': [-86.30001068115234,\n",
       "    25.772332637530994,\n",
       "    -80.19155100671779,\n",
       "    32.6189679949766]}}}"
      ]
     },
     "execution_count": 121,
     "metadata": {},
     "output_type": "execute_result"
    }
   ],
   "source": [
    "geo"
   ]
  },
  {
   "cell_type": "code",
   "execution_count": 114,
   "id": "7f508891-d55b-45f6-b326-80349a5a44ea",
   "metadata": {},
   "outputs": [
    {
     "data": {
      "text/plain": [
       "[-149.90083515644073,\n",
       " 25.772332637530994,\n",
       " -70.11639202164899,\n",
       " 61.21882061399109]"
      ]
     },
     "execution_count": 114,
     "metadata": {},
     "output_type": "execute_result"
    }
   ],
   "source": [
    "coords_lst = list(zip(*[geo.get('columns').get('geometry').get('bbox') for geo in geo_lst]))\n",
    "\n",
    "min_coords = [min(coords) for coords in coords_lst[:2]]\n",
    "max_coords = [max(coords) for coords in coords_lst[2:]]\n",
    "\n",
    "bbox = min_coords + max_coords\n",
    "\n",
    "bbox"
   ]
  },
  {
   "cell_type": "code",
   "execution_count": 19,
   "id": "e0a512c0-2736-445c-9694-ecf276690e40",
   "metadata": {},
   "outputs": [],
   "source": [
    "gpqt_file = list(gpqt_pth.glob('**/*.parquet'))[0]"
   ]
  },
  {
   "cell_type": "code",
   "execution_count": 20,
   "id": "f5e198c2-6594-4a3e-b32b-9e2c3bc60ee7",
   "metadata": {},
   "outputs": [],
   "source": [
    "meta = pq.read_metadata(gpqt_file)"
   ]
  },
  {
   "cell_type": "code",
   "execution_count": 44,
   "id": "efa038f1-62f0-4502-bb88-aa69685e4576",
   "metadata": {},
   "outputs": [
    {
     "ename": "AttributeError",
     "evalue": "'pyarrow._parquet.ColumnSchema' object has no attribute 'describe'",
     "output_type": "error",
     "traceback": [
      "\u001b[1;31m---------------------------------------------------------------------------\u001b[0m",
      "\u001b[1;31mAttributeError\u001b[0m                            Traceback (most recent call last)",
      "Cell \u001b[1;32mIn[44], line 1\u001b[0m\n\u001b[1;32m----> 1\u001b[0m [fld\u001b[38;5;241m.\u001b[39mdescribe() \u001b[38;5;28;01mfor\u001b[39;00m fld \u001b[38;5;129;01min\u001b[39;00m meta\u001b[38;5;241m.\u001b[39mschema]\n",
      "Cell \u001b[1;32mIn[44], line 1\u001b[0m, in \u001b[0;36m<listcomp>\u001b[1;34m(.0)\u001b[0m\n\u001b[1;32m----> 1\u001b[0m [fld\u001b[38;5;241m.\u001b[39mdescribe() \u001b[38;5;28;01mfor\u001b[39;00m fld \u001b[38;5;129;01min\u001b[39;00m meta\u001b[38;5;241m.\u001b[39mschema]\n",
      "\u001b[1;31mAttributeError\u001b[0m: 'pyarrow._parquet.ColumnSchema' object has no attribute 'describe'"
     ]
    }
   ],
   "source": [
    "[fld.describe() for fld in meta.schema]"
   ]
  },
  {
   "cell_type": "code",
   "execution_count": 28,
   "id": "f655cc43-f81d-4e78-81ae-416a5e2c2fc3",
   "metadata": {},
   "outputs": [
    {
     "data": {
      "text/plain": [
       "b'{\"version\":\"1.0.0\",\"primary_column\":\"geometry\",\"columns\":{\"geometry\":{\"encoding\":\"WKB\",\"geometry_types\":[\"Point\"],\"crs\":{\"type\":\"GeographicCRS\",\"name\":\"GCS WGS 1984\",\"bbox\":{\"east_longitude\":180.0,\"west_longitude\":-180.0,\"south_latitude\":-90.0,\"north_latitude\":90.0},\"datum\":{\"type\":\"GeodeticReferenceFrame\",\"name\":\"D WGS 1984\",\"ellipsoid\":{\"name\":\"WGS 1984\",\"semi_major_axis\":6378137.0,\"inverse_flattening\":298.257223563},\"prime_meridian\":{\"name\":\"Greenwich\",\"longitude\":0.0},\"id\":{\"authority\":\"EPSG\",\"code\":6326}},\"coordinate_system\":{\"subtype\":\"ellipsoidal\",\"axis\":[{\"name\":\"Latitude\",\"abbreviation\":\"lat\",\"direction\":\"north\",\"unit\":\"degree\"},{\"name\":\"Longitude\",\"abbreviation\":\"lon\",\"direction\":\"east\",\"unit\":\"degree\"}]},\"area\":\"World (by country)\",\"id\":{\"authority\":\"EPSG\",\"code\":4326}},\"bbox\":[-86.30001068115234,25.772332637530994,-80.19155100671779,32.6189679949766]}}}'"
      ]
     },
     "execution_count": 28,
     "metadata": {},
     "output_type": "execute_result"
    }
   ],
   "source": [
    "geo_meta = meta.metadata[b'geo']\n",
    "\n",
    "geo_meta"
   ]
  },
  {
   "cell_type": "code",
   "execution_count": 34,
   "id": "7f7a08a5-4e9e-4313-9b62-b55430da8f2e",
   "metadata": {},
   "outputs": [
    {
     "name": "stdout",
     "output_type": "stream",
     "text": [
      "{\n",
      "    \"version\": \"1.0.0\",\n",
      "    \"primary_column\": \"geometry\",\n",
      "    \"columns\": {\n",
      "        \"geometry\": {\n",
      "            \"encoding\": \"WKB\",\n",
      "            \"geometry_types\": [\n",
      "                \"Point\"\n",
      "            ],\n",
      "            \"crs\": {\n",
      "                \"type\": \"GeographicCRS\",\n",
      "                \"name\": \"GCS WGS 1984\",\n",
      "                \"bbox\": {\n",
      "                    \"east_longitude\": 180.0,\n",
      "                    \"west_longitude\": -180.0,\n",
      "                    \"south_latitude\": -90.0,\n",
      "                    \"north_latitude\": 90.0\n",
      "                },\n",
      "                \"datum\": {\n",
      "                    \"type\": \"GeodeticReferenceFrame\",\n",
      "                    \"name\": \"D WGS 1984\",\n",
      "                    \"ellipsoid\": {\n",
      "                        \"name\": \"WGS 1984\",\n",
      "                        \"semi_major_axis\": 6378137.0,\n",
      "                        \"inverse_flattening\": 298.257223563\n",
      "                    },\n",
      "                    \"prime_meridian\": {\n",
      "                        \"name\": \"Greenwich\",\n",
      "                        \"longitude\": 0.0\n",
      "                    },\n",
      "                    \"id\": {\n",
      "                        \"authority\": \"EPSG\",\n",
      "                        \"code\": 6326\n",
      "                    }\n",
      "                },\n",
      "                \"coordinate_system\": {\n",
      "                    \"subtype\": \"ellipsoidal\",\n",
      "                    \"axis\": [\n",
      "                        {\n",
      "                            \"name\": \"Latitude\",\n",
      "                            \"abbreviation\": \"lat\",\n",
      "                            \"direction\": \"north\",\n",
      "                            \"unit\": \"degree\"\n",
      "                        },\n",
      "                        {\n",
      "                            \"name\": \"Longitude\",\n",
      "                            \"abbreviation\": \"lon\",\n",
      "                            \"direction\": \"east\",\n",
      "                            \"unit\": \"degree\"\n",
      "                        }\n",
      "                    ]\n",
      "                },\n",
      "                \"area\": \"World (by country)\",\n",
      "                \"id\": {\n",
      "                    \"authority\": \"EPSG\",\n",
      "                    \"code\": 4326\n",
      "                }\n",
      "            },\n",
      "            \"bbox\": [\n",
      "                -86.30001068115234,\n",
      "                25.772332637530994,\n",
      "                -80.19155100671779,\n",
      "                32.6189679949766\n",
      "            ]\n",
      "        }\n",
      "    }\n",
      "}\n"
     ]
    }
   ],
   "source": [
    "print(json.dumps(json.loads(geo_meta), indent=4))"
   ]
  },
  {
   "cell_type": "code",
   "execution_count": null,
   "id": "2dcad67c-628d-48cb-992c-fcd5b9023ab0",
   "metadata": {},
   "outputs": [],
   "source": []
  }
 ],
 "metadata": {
  "kernelspec": {
   "display_name": "Python 3 (ipykernel)",
   "language": "python",
   "name": "python3"
  },
  "language_info": {
   "codemirror_mode": {
    "name": "ipython",
    "version": 3
   },
   "file_extension": ".py",
   "mimetype": "text/x-python",
   "name": "python",
   "nbconvert_exporter": "python",
   "pygments_lexer": "ipython3",
   "version": "3.11.11"
  }
 },
 "nbformat": 4,
 "nbformat_minor": 5
}
